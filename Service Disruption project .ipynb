{
 "cells": [
  {
   "cell_type": "markdown",
   "metadata": {
    "collapsed": true
   },
   "source": [
    "# Cell Tower Outage Prediction Algorithm "
   ]
  },
  {
   "cell_type": "markdown",
   "metadata": {},
   "source": [
    "## Steps in CRISP-DM (Cross Industry Standard Process for Data Minning "
   ]
  },
  {
   "cell_type": "markdown",
   "metadata": {},
   "source": [
    "Step 1: Understand the Business Objective/Question <br>\n",
    "Step 2: Data Understanding <br>\n",
    "Step 3: Data Preperation <br>\n",
    "Step 4: Modeling <br>\n",
    "Step 5: Evaluation <br>\n",
    "Step 6: Deployment <br>"
   ]
  },
  {
   "cell_type": "markdown",
   "metadata": {},
   "source": [
    "# Step 1: Understand the Business Question"
   ]
  },
  {
   "cell_type": "markdown",
   "metadata": {},
   "source": [
    "We have data about the times when individual cell towers experienced technical difficulties. Our job is to use the provided data\n",
    "to predict the probablity of each cell tower going down in the future, and predict how severe the outage will be."
   ]
  },
  {
   "cell_type": "markdown",
   "metadata": {},
   "source": [
    "# Step 2: Data Understanding"
   ]
  },
  {
   "cell_type": "markdown",
   "metadata": {},
   "source": [
    "The following are the variables we have been given and will be using in our classifcation model"
   ]
  },
  {
   "cell_type": "markdown",
   "metadata": {},
   "source": [
    "## **Data Dictionary**\n",
    "\n",
    "### **Dependent Variable**\n",
    "**Fault_severity:** Categorical variable used to represent the severity of the faults 0-being no fault 2-being many faults <br>\n",
    "<br>\n",
    "### **Independent Variables**\n",
    "<font>**ID:**</font> Used to identify a specific event at a specific location <br>\n",
    "<font>**Location:**</font> Used to identify the location of the cell tower <br>\n",
    "<font>**Log_feature:**</font> The Types of features logged for that each ID <br>\n",
    "<font>**Volume:**</font> The amount of logged features <br>\n",
    "<font>**Resource_type:**</font> The type of resource provided by that specific ID<br>\n",
    "<font>**Severity_type:**</font> The type of severity level logged for that specific ID<br>\n"
   ]
  },
  {
   "cell_type": "markdown",
   "metadata": {},
   "source": [
    "# Step 3: Data Preperation "
   ]
  },
  {
   "cell_type": "markdown",
   "metadata": {},
   "source": [
    "## Begin by Downloading necessary libraries "
   ]
  },
  {
   "cell_type": "code",
   "execution_count": 1,
   "metadata": {
    "collapsed": true
   },
   "outputs": [],
   "source": [
    "import pandas as pd \n",
    "import numpy as np"
   ]
  },
  {
   "cell_type": "markdown",
   "metadata": {
    "collapsed": true
   },
   "source": [
    "## Read the necessary files into Pandas Data Frames"
   ]
  },
  {
   "cell_type": "code",
   "execution_count": 2,
   "metadata": {
    "collapsed": true
   },
   "outputs": [],
   "source": [
    "resources = pd.read_csv(\"resource_type.csv\")\n",
    "severity = pd.read_csv(\"severity_type.csv\")\n",
    "log = pd.read_csv(\"log_feature.csv\")\n",
    "event = pd.read_csv(\"event_type.csv\")\n",
    "train = pd.read_csv(\"train.csv\")"
   ]
  },
  {
   "cell_type": "code",
   "execution_count": null,
   "metadata": {
    "collapsed": true
   },
   "outputs": [],
   "source": []
  },
  {
   "cell_type": "markdown",
   "metadata": {
    "collapsed": true
   },
   "source": [
    "## Step 3a Clean the Data "
   ]
  },
  {
   "cell_type": "markdown",
   "metadata": {},
   "source": [
    "Create a combine data frame by merging each of the individual data frames"
   ]
  },
  {
   "cell_type": "code",
   "execution_count": 3,
   "metadata": {
    "collapsed": true
   },
   "outputs": [],
   "source": [
    "# Merge all the data frames into one data frame\n",
    "df=log.merge(event)\n",
    "df=df.merge(resources)\n",
    "df=df.merge(severity)\n",
    "data=train.merge(df)\n"
   ]
  },
  {
   "cell_type": "code",
   "execution_count": 4,
   "metadata": {},
   "outputs": [
    {
     "data": {
      "text/html": [
       "<div>\n",
       "<style>\n",
       "    .dataframe thead tr:only-child th {\n",
       "        text-align: right;\n",
       "    }\n",
       "\n",
       "    .dataframe thead th {\n",
       "        text-align: left;\n",
       "    }\n",
       "\n",
       "    .dataframe tbody tr th {\n",
       "        vertical-align: top;\n",
       "    }\n",
       "</style>\n",
       "<table border=\"1\" class=\"dataframe\">\n",
       "  <thead>\n",
       "    <tr style=\"text-align: right;\">\n",
       "      <th></th>\n",
       "      <th>id</th>\n",
       "      <th>location</th>\n",
       "      <th>fault_severity</th>\n",
       "      <th>log_feature</th>\n",
       "      <th>volume</th>\n",
       "      <th>event_type</th>\n",
       "      <th>resource_type</th>\n",
       "      <th>severity_type</th>\n",
       "    </tr>\n",
       "  </thead>\n",
       "  <tbody>\n",
       "    <tr>\n",
       "      <th>0</th>\n",
       "      <td>14121</td>\n",
       "      <td>location 118</td>\n",
       "      <td>1</td>\n",
       "      <td>feature 312</td>\n",
       "      <td>19</td>\n",
       "      <td>event_type 34</td>\n",
       "      <td>resource_type 2</td>\n",
       "      <td>severity_type 2</td>\n",
       "    </tr>\n",
       "    <tr>\n",
       "      <th>1</th>\n",
       "      <td>14121</td>\n",
       "      <td>location 118</td>\n",
       "      <td>1</td>\n",
       "      <td>feature 312</td>\n",
       "      <td>19</td>\n",
       "      <td>event_type 35</td>\n",
       "      <td>resource_type 2</td>\n",
       "      <td>severity_type 2</td>\n",
       "    </tr>\n",
       "    <tr>\n",
       "      <th>2</th>\n",
       "      <td>14121</td>\n",
       "      <td>location 118</td>\n",
       "      <td>1</td>\n",
       "      <td>feature 232</td>\n",
       "      <td>19</td>\n",
       "      <td>event_type 34</td>\n",
       "      <td>resource_type 2</td>\n",
       "      <td>severity_type 2</td>\n",
       "    </tr>\n",
       "    <tr>\n",
       "      <th>3</th>\n",
       "      <td>14121</td>\n",
       "      <td>location 118</td>\n",
       "      <td>1</td>\n",
       "      <td>feature 232</td>\n",
       "      <td>19</td>\n",
       "      <td>event_type 35</td>\n",
       "      <td>resource_type 2</td>\n",
       "      <td>severity_type 2</td>\n",
       "    </tr>\n",
       "    <tr>\n",
       "      <th>4</th>\n",
       "      <td>9320</td>\n",
       "      <td>location 91</td>\n",
       "      <td>0</td>\n",
       "      <td>feature 315</td>\n",
       "      <td>200</td>\n",
       "      <td>event_type 34</td>\n",
       "      <td>resource_type 2</td>\n",
       "      <td>severity_type 2</td>\n",
       "    </tr>\n",
       "  </tbody>\n",
       "</table>\n",
       "</div>"
      ],
      "text/plain": [
       "      id      location  fault_severity  log_feature  volume     event_type  \\\n",
       "0  14121  location 118               1  feature 312      19  event_type 34   \n",
       "1  14121  location 118               1  feature 312      19  event_type 35   \n",
       "2  14121  location 118               1  feature 232      19  event_type 34   \n",
       "3  14121  location 118               1  feature 232      19  event_type 35   \n",
       "4   9320   location 91               0  feature 315     200  event_type 34   \n",
       "\n",
       "     resource_type    severity_type  \n",
       "0  resource_type 2  severity_type 2  \n",
       "1  resource_type 2  severity_type 2  \n",
       "2  resource_type 2  severity_type 2  \n",
       "3  resource_type 2  severity_type 2  \n",
       "4  resource_type 2  severity_type 2  "
      ]
     },
     "execution_count": 4,
     "metadata": {},
     "output_type": "execute_result"
    }
   ],
   "source": [
    "data.head()"
   ]
  },
  {
   "cell_type": "markdown",
   "metadata": {},
   "source": [
    "Strip out the words from the Location, Log_feature, Event_type, Severity_type and resource_type columns "
   ]
  },
  {
   "cell_type": "code",
   "execution_count": 5,
   "metadata": {
    "collapsed": true
   },
   "outputs": [],
   "source": [
    "# Loops through each column splitting the strings into a list then appending the numbers to a separate list\n",
    "loc=[]\n",
    "for row in data['location']:\n",
    "    bers=row.split()\n",
    "    bers=bers[1]\n",
    "    loc.append(bers)\n",
    "    \n",
    "log_f=[]\n",
    "for row in data['log_feature']:\n",
    "    bers=row.split()\n",
    "    bers=bers[1]\n",
    "    log_f.append(bers)\n",
    "    \n",
    "event_t=[]\n",
    "for row in data['event_type']:\n",
    "    bers=row.split()\n",
    "    bers=bers[1]\n",
    "    event_t.append(bers)\n",
    "    \n",
    "resource_t=[]\n",
    "for row in data['resource_type']:\n",
    "    bers=row.split()\n",
    "    bers=bers[1]\n",
    "    resource_t.append(bers)\n",
    "    \n",
    "severity_t=[]\n",
    "for row in data['severity_type']:\n",
    "    bers=row.split()\n",
    "    bers=bers[1]\n",
    "    severity_t.append(bers)\n",
    "\n",
    "# Lists with numbers assigned back to respective columns in combined data frame \n",
    "data['location']=loc\n",
    "data['log_feature']=log_f\n",
    "data['event_type']= event_t\n",
    "data['resource_type']= resource_t \n",
    "data['severity_type']=severity_t"
   ]
  },
  {
   "cell_type": "code",
   "execution_count": 6,
   "metadata": {},
   "outputs": [
    {
     "data": {
      "text/html": [
       "<div>\n",
       "<style>\n",
       "    .dataframe thead tr:only-child th {\n",
       "        text-align: right;\n",
       "    }\n",
       "\n",
       "    .dataframe thead th {\n",
       "        text-align: left;\n",
       "    }\n",
       "\n",
       "    .dataframe tbody tr th {\n",
       "        vertical-align: top;\n",
       "    }\n",
       "</style>\n",
       "<table border=\"1\" class=\"dataframe\">\n",
       "  <thead>\n",
       "    <tr style=\"text-align: right;\">\n",
       "      <th></th>\n",
       "      <th>id</th>\n",
       "      <th>location</th>\n",
       "      <th>fault_severity</th>\n",
       "      <th>log_feature</th>\n",
       "      <th>volume</th>\n",
       "      <th>event_type</th>\n",
       "      <th>resource_type</th>\n",
       "      <th>severity_type</th>\n",
       "    </tr>\n",
       "  </thead>\n",
       "  <tbody>\n",
       "    <tr>\n",
       "      <th>0</th>\n",
       "      <td>14121</td>\n",
       "      <td>118</td>\n",
       "      <td>1</td>\n",
       "      <td>312</td>\n",
       "      <td>19</td>\n",
       "      <td>34</td>\n",
       "      <td>2</td>\n",
       "      <td>2</td>\n",
       "    </tr>\n",
       "    <tr>\n",
       "      <th>1</th>\n",
       "      <td>14121</td>\n",
       "      <td>118</td>\n",
       "      <td>1</td>\n",
       "      <td>312</td>\n",
       "      <td>19</td>\n",
       "      <td>35</td>\n",
       "      <td>2</td>\n",
       "      <td>2</td>\n",
       "    </tr>\n",
       "    <tr>\n",
       "      <th>2</th>\n",
       "      <td>14121</td>\n",
       "      <td>118</td>\n",
       "      <td>1</td>\n",
       "      <td>232</td>\n",
       "      <td>19</td>\n",
       "      <td>34</td>\n",
       "      <td>2</td>\n",
       "      <td>2</td>\n",
       "    </tr>\n",
       "    <tr>\n",
       "      <th>3</th>\n",
       "      <td>14121</td>\n",
       "      <td>118</td>\n",
       "      <td>1</td>\n",
       "      <td>232</td>\n",
       "      <td>19</td>\n",
       "      <td>35</td>\n",
       "      <td>2</td>\n",
       "      <td>2</td>\n",
       "    </tr>\n",
       "    <tr>\n",
       "      <th>4</th>\n",
       "      <td>9320</td>\n",
       "      <td>91</td>\n",
       "      <td>0</td>\n",
       "      <td>315</td>\n",
       "      <td>200</td>\n",
       "      <td>34</td>\n",
       "      <td>2</td>\n",
       "      <td>2</td>\n",
       "    </tr>\n",
       "  </tbody>\n",
       "</table>\n",
       "</div>"
      ],
      "text/plain": [
       "      id location  fault_severity log_feature  volume event_type  \\\n",
       "0  14121      118               1         312      19         34   \n",
       "1  14121      118               1         312      19         35   \n",
       "2  14121      118               1         232      19         34   \n",
       "3  14121      118               1         232      19         35   \n",
       "4   9320       91               0         315     200         34   \n",
       "\n",
       "  resource_type severity_type  \n",
       "0             2             2  \n",
       "1             2             2  \n",
       "2             2             2  \n",
       "3             2             2  \n",
       "4             2             2  "
      ]
     },
     "execution_count": 6,
     "metadata": {},
     "output_type": "execute_result"
    }
   ],
   "source": [
    "data.head()"
   ]
  },
  {
   "cell_type": "code",
   "execution_count": null,
   "metadata": {
    "collapsed": true
   },
   "outputs": [],
   "source": []
  },
  {
   "cell_type": "markdown",
   "metadata": {
    "collapsed": true
   },
   "source": [
    "## Step 3b Creating Dummy Variables "
   ]
  },
  {
   "cell_type": "markdown",
   "metadata": {},
   "source": [
    "delete all the non categorical variables from a copy of your dataset"
   ]
  },
  {
   "cell_type": "code",
   "execution_count": 7,
   "metadata": {
    "collapsed": true
   },
   "outputs": [],
   "source": [
    "categories = data.copy()\n",
    "del categories['fault_severity']\n",
    "del categories['id']\n",
    "del categories['volume']\n"
   ]
  },
  {
   "cell_type": "markdown",
   "metadata": {},
   "source": [
    "Store the information from the categorical columns in a list"
   ]
  },
  {
   "cell_type": "code",
   "execution_count": 8,
   "metadata": {},
   "outputs": [
    {
     "name": "stdout",
     "output_type": "stream",
     "text": [
      "5\n",
      "5\n"
     ]
    }
   ],
   "source": [
    "# create list of names of the categorical columns you want to turn into dummy variables \n",
    "dummy_cats = categories.columns\n",
    "dummies = []\n",
    "\n",
    "# run the list through loop that appends values from each categorical column from the orginal data set to a new list (dummies)\n",
    "for i in range(len(dummy_cats)):\n",
    "    dummies.append(data[dummy_cats[i]])\n",
    "    \n",
    "# The newly created list and the list of column names should be the same length \n",
    "print len(dummy_cats)\n",
    "print len(dummies)\n",
    "\n"
   ]
  },
  {
   "cell_type": "markdown",
   "metadata": {
    "collapsed": true
   },
   "source": [
    "Create the dummy variable columns "
   ]
  },
  {
   "cell_type": "code",
   "execution_count": 10,
   "metadata": {
    "collapsed": true
   },
   "outputs": [],
   "source": [
    "# Create prefixes to identify which category dummy variables belong to (used because we removed string in front of nums above)\n",
    "prefixes = ['loc', 'logf', 'e_t', 'r_t', 's_t']\n",
    "for i in range(len(prefixes)):\n",
    "    # creates dummy variables for each column in the categorical dataframe and adds prefexies to the newly created colums\n",
    "    dummycreation = pd.get_dummies(categories[dummy_cats[i]], prefix = prefixes[i])\n",
    "    # joins/adds the columns to the to the categories dataframe\n",
    "    categories = categories.join(dummycreation)\n",
    "    #Deltetes orginal categorical column\n",
    "    del categories[dummy_cats[i]]"
   ]
  },
  {
   "cell_type": "code",
   "execution_count": 11,
   "metadata": {},
   "outputs": [
    {
     "data": {
      "text/html": [
       "<div>\n",
       "<style>\n",
       "    .dataframe thead tr:only-child th {\n",
       "        text-align: right;\n",
       "    }\n",
       "\n",
       "    .dataframe thead th {\n",
       "        text-align: left;\n",
       "    }\n",
       "\n",
       "    .dataframe tbody tr th {\n",
       "        vertical-align: top;\n",
       "    }\n",
       "</style>\n",
       "<table border=\"1\" class=\"dataframe\">\n",
       "  <thead>\n",
       "    <tr style=\"text-align: right;\">\n",
       "      <th></th>\n",
       "      <th>loc_1</th>\n",
       "      <th>loc_10</th>\n",
       "      <th>loc_100</th>\n",
       "      <th>loc_1000</th>\n",
       "      <th>loc_1002</th>\n",
       "      <th>loc_1005</th>\n",
       "      <th>loc_1006</th>\n",
       "      <th>loc_1007</th>\n",
       "      <th>loc_1008</th>\n",
       "      <th>loc_1009</th>\n",
       "      <th>...</th>\n",
       "      <th>r_t_5</th>\n",
       "      <th>r_t_6</th>\n",
       "      <th>r_t_7</th>\n",
       "      <th>r_t_8</th>\n",
       "      <th>r_t_9</th>\n",
       "      <th>s_t_1</th>\n",
       "      <th>s_t_2</th>\n",
       "      <th>s_t_3</th>\n",
       "      <th>s_t_4</th>\n",
       "      <th>s_t_5</th>\n",
       "    </tr>\n",
       "  </thead>\n",
       "  <tbody>\n",
       "    <tr>\n",
       "      <th>0</th>\n",
       "      <td>0</td>\n",
       "      <td>0</td>\n",
       "      <td>0</td>\n",
       "      <td>0</td>\n",
       "      <td>0</td>\n",
       "      <td>0</td>\n",
       "      <td>0</td>\n",
       "      <td>0</td>\n",
       "      <td>0</td>\n",
       "      <td>0</td>\n",
       "      <td>...</td>\n",
       "      <td>0</td>\n",
       "      <td>0</td>\n",
       "      <td>0</td>\n",
       "      <td>0</td>\n",
       "      <td>0</td>\n",
       "      <td>0</td>\n",
       "      <td>1</td>\n",
       "      <td>0</td>\n",
       "      <td>0</td>\n",
       "      <td>0</td>\n",
       "    </tr>\n",
       "    <tr>\n",
       "      <th>1</th>\n",
       "      <td>0</td>\n",
       "      <td>0</td>\n",
       "      <td>0</td>\n",
       "      <td>0</td>\n",
       "      <td>0</td>\n",
       "      <td>0</td>\n",
       "      <td>0</td>\n",
       "      <td>0</td>\n",
       "      <td>0</td>\n",
       "      <td>0</td>\n",
       "      <td>...</td>\n",
       "      <td>0</td>\n",
       "      <td>0</td>\n",
       "      <td>0</td>\n",
       "      <td>0</td>\n",
       "      <td>0</td>\n",
       "      <td>0</td>\n",
       "      <td>1</td>\n",
       "      <td>0</td>\n",
       "      <td>0</td>\n",
       "      <td>0</td>\n",
       "    </tr>\n",
       "    <tr>\n",
       "      <th>2</th>\n",
       "      <td>0</td>\n",
       "      <td>0</td>\n",
       "      <td>0</td>\n",
       "      <td>0</td>\n",
       "      <td>0</td>\n",
       "      <td>0</td>\n",
       "      <td>0</td>\n",
       "      <td>0</td>\n",
       "      <td>0</td>\n",
       "      <td>0</td>\n",
       "      <td>...</td>\n",
       "      <td>0</td>\n",
       "      <td>0</td>\n",
       "      <td>0</td>\n",
       "      <td>0</td>\n",
       "      <td>0</td>\n",
       "      <td>0</td>\n",
       "      <td>1</td>\n",
       "      <td>0</td>\n",
       "      <td>0</td>\n",
       "      <td>0</td>\n",
       "    </tr>\n",
       "    <tr>\n",
       "      <th>3</th>\n",
       "      <td>0</td>\n",
       "      <td>0</td>\n",
       "      <td>0</td>\n",
       "      <td>0</td>\n",
       "      <td>0</td>\n",
       "      <td>0</td>\n",
       "      <td>0</td>\n",
       "      <td>0</td>\n",
       "      <td>0</td>\n",
       "      <td>0</td>\n",
       "      <td>...</td>\n",
       "      <td>0</td>\n",
       "      <td>0</td>\n",
       "      <td>0</td>\n",
       "      <td>0</td>\n",
       "      <td>0</td>\n",
       "      <td>0</td>\n",
       "      <td>1</td>\n",
       "      <td>0</td>\n",
       "      <td>0</td>\n",
       "      <td>0</td>\n",
       "    </tr>\n",
       "    <tr>\n",
       "      <th>4</th>\n",
       "      <td>0</td>\n",
       "      <td>0</td>\n",
       "      <td>0</td>\n",
       "      <td>0</td>\n",
       "      <td>0</td>\n",
       "      <td>0</td>\n",
       "      <td>0</td>\n",
       "      <td>0</td>\n",
       "      <td>0</td>\n",
       "      <td>0</td>\n",
       "      <td>...</td>\n",
       "      <td>0</td>\n",
       "      <td>0</td>\n",
       "      <td>0</td>\n",
       "      <td>0</td>\n",
       "      <td>0</td>\n",
       "      <td>0</td>\n",
       "      <td>1</td>\n",
       "      <td>0</td>\n",
       "      <td>0</td>\n",
       "      <td>0</td>\n",
       "    </tr>\n",
       "  </tbody>\n",
       "</table>\n",
       "<p>5 rows × 1324 columns</p>\n",
       "</div>"
      ],
      "text/plain": [
       "   loc_1  loc_10  loc_100  loc_1000  loc_1002  loc_1005  loc_1006  loc_1007  \\\n",
       "0      0       0        0         0         0         0         0         0   \n",
       "1      0       0        0         0         0         0         0         0   \n",
       "2      0       0        0         0         0         0         0         0   \n",
       "3      0       0        0         0         0         0         0         0   \n",
       "4      0       0        0         0         0         0         0         0   \n",
       "\n",
       "   loc_1008  loc_1009  ...    r_t_5  r_t_6  r_t_7  r_t_8  r_t_9  s_t_1  s_t_2  \\\n",
       "0         0         0  ...        0      0      0      0      0      0      1   \n",
       "1         0         0  ...        0      0      0      0      0      0      1   \n",
       "2         0         0  ...        0      0      0      0      0      0      1   \n",
       "3         0         0  ...        0      0      0      0      0      0      1   \n",
       "4         0         0  ...        0      0      0      0      0      0      1   \n",
       "\n",
       "   s_t_3  s_t_4  s_t_5  \n",
       "0      0      0      0  \n",
       "1      0      0      0  \n",
       "2      0      0      0  \n",
       "3      0      0      0  \n",
       "4      0      0      0  \n",
       "\n",
       "[5 rows x 1324 columns]"
      ]
     },
     "execution_count": 11,
     "metadata": {},
     "output_type": "execute_result"
    }
   ],
   "source": [
    "# updated data frame with dummy variable columns \n",
    "categories.head()"
   ]
  },
  {
   "cell_type": "markdown",
   "metadata": {},
   "source": [
    "## Step 3c Compacting the data "
   ]
  },
  {
   "cell_type": "markdown",
   "metadata": {
    "collapsed": true
   },
   "source": [
    "Add the location column back into the dummy_variable dataframe and compress data by location"
   ]
  },
  {
   "cell_type": "code",
   "execution_count": 12,
   "metadata": {
    "collapsed": true
   },
   "outputs": [],
   "source": [
    "# add the location column back into the dummy_variable dataframe\n",
    "df=categories.copy()\n",
    "df['location']=data['location']"
   ]
  },
  {
   "cell_type": "code",
   "execution_count": 13,
   "metadata": {
    "collapsed": true
   },
   "outputs": [],
   "source": [
    "# combine all the location instances by summing up the columns where the location is similar \n",
    "df_sum = df.groupby('location').sum()"
   ]
  },
  {
   "cell_type": "code",
   "execution_count": 14,
   "metadata": {
    "collapsed": true
   },
   "outputs": [],
   "source": [
    "# flag each of the dummy variable columns (these coulmns should onlt be 1 or 0)\n",
    "col_names=df_sum.columns\n",
    "for cols in col_names:\n",
    "    df_sum[cols]=df_sum[cols].apply(lambda x: 1 if x > 0 else 0)"
   ]
  },
  {
   "cell_type": "code",
   "execution_count": 15,
   "metadata": {},
   "outputs": [
    {
     "data": {
      "text/html": [
       "<div>\n",
       "<style>\n",
       "    .dataframe thead tr:only-child th {\n",
       "        text-align: right;\n",
       "    }\n",
       "\n",
       "    .dataframe thead th {\n",
       "        text-align: left;\n",
       "    }\n",
       "\n",
       "    .dataframe tbody tr th {\n",
       "        vertical-align: top;\n",
       "    }\n",
       "</style>\n",
       "<table border=\"1\" class=\"dataframe\">\n",
       "  <thead>\n",
       "    <tr style=\"text-align: right;\">\n",
       "      <th></th>\n",
       "      <th>loc_1</th>\n",
       "      <th>loc_10</th>\n",
       "      <th>loc_100</th>\n",
       "      <th>loc_1000</th>\n",
       "      <th>loc_1002</th>\n",
       "      <th>loc_1005</th>\n",
       "      <th>loc_1006</th>\n",
       "      <th>loc_1007</th>\n",
       "      <th>loc_1008</th>\n",
       "      <th>loc_1009</th>\n",
       "      <th>...</th>\n",
       "      <th>r_t_5</th>\n",
       "      <th>r_t_6</th>\n",
       "      <th>r_t_7</th>\n",
       "      <th>r_t_8</th>\n",
       "      <th>r_t_9</th>\n",
       "      <th>s_t_1</th>\n",
       "      <th>s_t_2</th>\n",
       "      <th>s_t_3</th>\n",
       "      <th>s_t_4</th>\n",
       "      <th>s_t_5</th>\n",
       "    </tr>\n",
       "    <tr>\n",
       "      <th>location</th>\n",
       "      <th></th>\n",
       "      <th></th>\n",
       "      <th></th>\n",
       "      <th></th>\n",
       "      <th></th>\n",
       "      <th></th>\n",
       "      <th></th>\n",
       "      <th></th>\n",
       "      <th></th>\n",
       "      <th></th>\n",
       "      <th></th>\n",
       "      <th></th>\n",
       "      <th></th>\n",
       "      <th></th>\n",
       "      <th></th>\n",
       "      <th></th>\n",
       "      <th></th>\n",
       "      <th></th>\n",
       "      <th></th>\n",
       "      <th></th>\n",
       "      <th></th>\n",
       "    </tr>\n",
       "  </thead>\n",
       "  <tbody>\n",
       "    <tr>\n",
       "      <th>1</th>\n",
       "      <td>1</td>\n",
       "      <td>0</td>\n",
       "      <td>0</td>\n",
       "      <td>0</td>\n",
       "      <td>0</td>\n",
       "      <td>0</td>\n",
       "      <td>0</td>\n",
       "      <td>0</td>\n",
       "      <td>0</td>\n",
       "      <td>0</td>\n",
       "      <td>...</td>\n",
       "      <td>0</td>\n",
       "      <td>0</td>\n",
       "      <td>0</td>\n",
       "      <td>1</td>\n",
       "      <td>0</td>\n",
       "      <td>1</td>\n",
       "      <td>1</td>\n",
       "      <td>0</td>\n",
       "      <td>0</td>\n",
       "      <td>0</td>\n",
       "    </tr>\n",
       "    <tr>\n",
       "      <th>10</th>\n",
       "      <td>0</td>\n",
       "      <td>1</td>\n",
       "      <td>0</td>\n",
       "      <td>0</td>\n",
       "      <td>0</td>\n",
       "      <td>0</td>\n",
       "      <td>0</td>\n",
       "      <td>0</td>\n",
       "      <td>0</td>\n",
       "      <td>0</td>\n",
       "      <td>...</td>\n",
       "      <td>0</td>\n",
       "      <td>0</td>\n",
       "      <td>0</td>\n",
       "      <td>1</td>\n",
       "      <td>0</td>\n",
       "      <td>1</td>\n",
       "      <td>0</td>\n",
       "      <td>0</td>\n",
       "      <td>0</td>\n",
       "      <td>0</td>\n",
       "    </tr>\n",
       "    <tr>\n",
       "      <th>100</th>\n",
       "      <td>0</td>\n",
       "      <td>0</td>\n",
       "      <td>1</td>\n",
       "      <td>0</td>\n",
       "      <td>0</td>\n",
       "      <td>0</td>\n",
       "      <td>0</td>\n",
       "      <td>0</td>\n",
       "      <td>0</td>\n",
       "      <td>0</td>\n",
       "      <td>...</td>\n",
       "      <td>0</td>\n",
       "      <td>0</td>\n",
       "      <td>0</td>\n",
       "      <td>0</td>\n",
       "      <td>0</td>\n",
       "      <td>1</td>\n",
       "      <td>1</td>\n",
       "      <td>0</td>\n",
       "      <td>1</td>\n",
       "      <td>0</td>\n",
       "    </tr>\n",
       "    <tr>\n",
       "      <th>1000</th>\n",
       "      <td>0</td>\n",
       "      <td>0</td>\n",
       "      <td>0</td>\n",
       "      <td>1</td>\n",
       "      <td>0</td>\n",
       "      <td>0</td>\n",
       "      <td>0</td>\n",
       "      <td>0</td>\n",
       "      <td>0</td>\n",
       "      <td>0</td>\n",
       "      <td>...</td>\n",
       "      <td>0</td>\n",
       "      <td>0</td>\n",
       "      <td>0</td>\n",
       "      <td>1</td>\n",
       "      <td>0</td>\n",
       "      <td>1</td>\n",
       "      <td>1</td>\n",
       "      <td>0</td>\n",
       "      <td>0</td>\n",
       "      <td>0</td>\n",
       "    </tr>\n",
       "    <tr>\n",
       "      <th>1002</th>\n",
       "      <td>0</td>\n",
       "      <td>0</td>\n",
       "      <td>0</td>\n",
       "      <td>0</td>\n",
       "      <td>1</td>\n",
       "      <td>0</td>\n",
       "      <td>0</td>\n",
       "      <td>0</td>\n",
       "      <td>0</td>\n",
       "      <td>0</td>\n",
       "      <td>...</td>\n",
       "      <td>0</td>\n",
       "      <td>0</td>\n",
       "      <td>0</td>\n",
       "      <td>0</td>\n",
       "      <td>0</td>\n",
       "      <td>1</td>\n",
       "      <td>0</td>\n",
       "      <td>0</td>\n",
       "      <td>0</td>\n",
       "      <td>0</td>\n",
       "    </tr>\n",
       "  </tbody>\n",
       "</table>\n",
       "<p>5 rows × 1324 columns</p>\n",
       "</div>"
      ],
      "text/plain": [
       "          loc_1  loc_10  loc_100  loc_1000  loc_1002  loc_1005  loc_1006  \\\n",
       "location                                                                   \n",
       "1             1       0        0         0         0         0         0   \n",
       "10            0       1        0         0         0         0         0   \n",
       "100           0       0        1         0         0         0         0   \n",
       "1000          0       0        0         1         0         0         0   \n",
       "1002          0       0        0         0         1         0         0   \n",
       "\n",
       "          loc_1007  loc_1008  loc_1009  ...    r_t_5  r_t_6  r_t_7  r_t_8  \\\n",
       "location                                ...                                 \n",
       "1                0         0         0  ...        0      0      0      1   \n",
       "10               0         0         0  ...        0      0      0      1   \n",
       "100              0         0         0  ...        0      0      0      0   \n",
       "1000             0         0         0  ...        0      0      0      1   \n",
       "1002             0         0         0  ...        0      0      0      0   \n",
       "\n",
       "          r_t_9  s_t_1  s_t_2  s_t_3  s_t_4  s_t_5  \n",
       "location                                            \n",
       "1             0      1      1      0      0      0  \n",
       "10            0      1      0      0      0      0  \n",
       "100           0      1      1      0      1      0  \n",
       "1000          0      1      1      0      0      0  \n",
       "1002          0      1      0      0      0      0  \n",
       "\n",
       "[5 rows x 1324 columns]"
      ]
     },
     "execution_count": 15,
     "metadata": {},
     "output_type": "execute_result"
    }
   ],
   "source": [
    "# Check data Frame to ensure flags correctly applied\n",
    "df_sum.head()"
   ]
  },
  {
   "cell_type": "markdown",
   "metadata": {},
   "source": [
    "Create another data frame for the numeric variables and compress the data by location"
   ]
  },
  {
   "cell_type": "code",
   "execution_count": 16,
   "metadata": {
    "collapsed": true
   },
   "outputs": [],
   "source": [
    "# Create a data frame for the numerical variables\n",
    "df_extra=pd.DataFrame()\n",
    "df_extra['location']=data['location']\n",
    "df_extra['volume']=data['volume']\n",
    "# Sum up all numeric variables by location\n",
    "df_extra = df_extra.groupby(by='location').sum()"
   ]
  },
  {
   "cell_type": "code",
   "execution_count": 17,
   "metadata": {},
   "outputs": [
    {
     "data": {
      "text/html": [
       "<div>\n",
       "<style>\n",
       "    .dataframe thead tr:only-child th {\n",
       "        text-align: right;\n",
       "    }\n",
       "\n",
       "    .dataframe thead th {\n",
       "        text-align: left;\n",
       "    }\n",
       "\n",
       "    .dataframe tbody tr th {\n",
       "        vertical-align: top;\n",
       "    }\n",
       "</style>\n",
       "<table border=\"1\" class=\"dataframe\">\n",
       "  <thead>\n",
       "    <tr style=\"text-align: right;\">\n",
       "      <th></th>\n",
       "      <th>volume</th>\n",
       "    </tr>\n",
       "    <tr>\n",
       "      <th>location</th>\n",
       "      <th></th>\n",
       "    </tr>\n",
       "  </thead>\n",
       "  <tbody>\n",
       "    <tr>\n",
       "      <th>1</th>\n",
       "      <td>664</td>\n",
       "    </tr>\n",
       "    <tr>\n",
       "      <th>10</th>\n",
       "      <td>20</td>\n",
       "    </tr>\n",
       "    <tr>\n",
       "      <th>100</th>\n",
       "      <td>246</td>\n",
       "    </tr>\n",
       "    <tr>\n",
       "      <th>1000</th>\n",
       "      <td>29</td>\n",
       "    </tr>\n",
       "    <tr>\n",
       "      <th>1002</th>\n",
       "      <td>2</td>\n",
       "    </tr>\n",
       "  </tbody>\n",
       "</table>\n",
       "</div>"
      ],
      "text/plain": [
       "          volume\n",
       "location        \n",
       "1            664\n",
       "10            20\n",
       "100          246\n",
       "1000          29\n",
       "1002           2"
      ]
     },
     "execution_count": 17,
     "metadata": {},
     "output_type": "execute_result"
    }
   ],
   "source": [
    "# Check to ensure data is summed and grouped by location\n",
    "df_extra.head()"
   ]
  },
  {
   "cell_type": "markdown",
   "metadata": {},
   "source": [
    "Create another data frame for the dependent variable and compress the data by location"
   ]
  },
  {
   "cell_type": "code",
   "execution_count": 18,
   "metadata": {
    "collapsed": true
   },
   "outputs": [],
   "source": [
    "# create new dataframe with independent variable (fault severity) Group by location and take the mean of the fault_severities\n",
    "\n",
    "df_independent= data.copy()\n",
    "\n",
    "del df_independent['id']\n",
    "del df_independent['log_feature']\n",
    "del df_independent['volume']\n",
    "del df_independent['event_type']\n",
    "del df_independent['resource_type']\n",
    "del df_independent['severity_type']\n",
    "\n",
    "df_independent['fault_severity']=df_independent['fault_severity'].apply(lambda x: float(x))\n",
    "\n",
    "df_independent = df_independent.groupby(by='location').mean()\n",
    "df_independent['fault_severity'] = df_independent['fault_severity'].apply(lambda x: round(x, 0))\n"
   ]
  },
  {
   "cell_type": "markdown",
   "metadata": {
    "collapsed": true
   },
   "source": [
    "# Step 4: Modeling "
   ]
  },
  {
   "cell_type": "markdown",
   "metadata": {},
   "source": [
    "Combine the independent data frames and store the independent and dependent data frames in variables for the modeling process\n"
   ]
  },
  {
   "cell_type": "code",
   "execution_count": 19,
   "metadata": {
    "collapsed": true
   },
   "outputs": [],
   "source": [
    "# combine the categorical and numerical dataframes and store in X\n",
    "x=df_extra.join(df_sum)\n",
    "# store the independnt data frame in y\n",
    "y=df_independent['fault_severity']"
   ]
  },
  {
   "cell_type": "markdown",
   "metadata": {},
   "source": [
    "Import train test split and split the data"
   ]
  },
  {
   "cell_type": "code",
   "execution_count": 20,
   "metadata": {},
   "outputs": [
    {
     "name": "stderr",
     "output_type": "stream",
     "text": [
      "C:\\Users\\smont\\Anaconda2\\lib\\site-packages\\sklearn\\cross_validation.py:44: DeprecationWarning: This module was deprecated in version 0.18 in favor of the model_selection module into which all the refactored classes and functions are moved. Also note that the interface of the new CV iterators are different from that of this module. This module will be removed in 0.20.\n",
      "  \"This module will be removed in 0.20.\", DeprecationWarning)\n"
     ]
    }
   ],
   "source": [
    "from sklearn.cross_validation import train_test_split\n",
    "\n",
    "X_train, X_test, y_train, y_test = train_test_split(x, y, test_size=0.2, random_state=42)"
   ]
  },
  {
   "cell_type": "markdown",
   "metadata": {},
   "source": [
    "Import the necessary modeling libraries and fit the model"
   ]
  },
  {
   "cell_type": "code",
   "execution_count": 21,
   "metadata": {
    "collapsed": true
   },
   "outputs": [],
   "source": [
    "from sklearn.ensemble import GradientBoostingClassifier \n",
    "\n",
    "# create the model\n",
    "gradient = GradientBoostingClassifier()\n",
    "# fit the model \n",
    "g = gradient.fit(X_train, y_train)"
   ]
  },
  {
   "cell_type": "markdown",
   "metadata": {},
   "source": [
    "Predict using the model and store in a list for later use"
   ]
  },
  {
   "cell_type": "code",
   "execution_count": 22,
   "metadata": {
    "collapsed": true
   },
   "outputs": [],
   "source": [
    "predicted=g.predict(x)"
   ]
  },
  {
   "cell_type": "markdown",
   "metadata": {},
   "source": [
    "# Step 5 Evaluation"
   ]
  },
  {
   "cell_type": "code",
   "execution_count": 23,
   "metadata": {},
   "outputs": [
    {
     "data": {
      "text/plain": [
       "0.70967741935483875"
      ]
     },
     "execution_count": 23,
     "metadata": {},
     "output_type": "execute_result"
    }
   ],
   "source": [
    "# Get the Accuracy score (percent of times algorthim correctly predicted the dependent variable (fault_severity))\n",
    "\n",
    "g.score(X_test, y_test)"
   ]
  },
  {
   "cell_type": "markdown",
   "metadata": {},
   "source": [
    "# Step 6 Deployment"
   ]
  },
  {
   "cell_type": "markdown",
   "metadata": {},
   "source": [
    "Create Prediction/Probability DataFrame"
   ]
  },
  {
   "cell_type": "code",
   "execution_count": 24,
   "metadata": {
    "collapsed": true
   },
   "outputs": [],
   "source": [
    "# Create data frame with location and columns for each possible predicted outcome\n",
    "df_prob=pd.DataFrame(columns = ['location','Predicted','Probablity 0','Probablity 1', 'Probablity 2'])\n",
    "df_prob['location']=data['location'].unique()\n",
    "# Store the predicted outcome in the predicted outcome column \n",
    "df_prob['Predicted']=predicted\n"
   ]
  },
  {
   "cell_type": "code",
   "execution_count": 25,
   "metadata": {
    "collapsed": true
   },
   "outputs": [],
   "source": [
    "# Store the probablities for 0, 1 ,2 fault severity in a list\n",
    "probablities=g.predict_proba(x)"
   ]
  },
  {
   "cell_type": "code",
   "execution_count": 26,
   "metadata": {
    "collapsed": true
   },
   "outputs": [],
   "source": [
    "# Convert list to an array \n",
    "probablities=np.array(probablities)"
   ]
  },
  {
   "cell_type": "markdown",
   "metadata": {},
   "source": [
    "Put the probablities of each outcome into the created data frame"
   ]
  },
  {
   "cell_type": "code",
   "execution_count": 27,
   "metadata": {
    "collapsed": true
   },
   "outputs": [],
   "source": [
    "# define lists to store the probabilities for each column in the data frame\n",
    "rows=range(0,929)\n",
    "cols=[0,1,2]\n",
    "list_1=[]\n",
    "list_2=[]\n",
    "list_3=[]\n",
    "\n",
    "# Create loop that stores the probabilities for each column into a list\n",
    "for row in rows:\n",
    "    for col in cols:\n",
    "        if col==0:\n",
    "            num=probablities[row][col]\n",
    "            list_1.append(num)\n",
    "        if col==1:\n",
    "            num=probablities[row][col]\n",
    "            list_2.append(num)\n",
    "        if col==2:\n",
    "            num=probablities[row][col]\n",
    "            list_3.append(num)\n"
   ]
  },
  {
   "cell_type": "code",
   "execution_count": 28,
   "metadata": {
    "collapsed": true
   },
   "outputs": [],
   "source": [
    "# Assign lists to the probability columns\n",
    "\n",
    "df_prob['Probablity 0']=list_1\n",
    "df_prob['Probablity 1']=list_2\n",
    "df_prob['Probablity 2']=list_3"
   ]
  },
  {
   "cell_type": "markdown",
   "metadata": {},
   "source": [
    "Check the data frame"
   ]
  },
  {
   "cell_type": "code",
   "execution_count": 29,
   "metadata": {},
   "outputs": [
    {
     "data": {
      "text/html": [
       "<div>\n",
       "<style>\n",
       "    .dataframe thead tr:only-child th {\n",
       "        text-align: right;\n",
       "    }\n",
       "\n",
       "    .dataframe thead th {\n",
       "        text-align: left;\n",
       "    }\n",
       "\n",
       "    .dataframe tbody tr th {\n",
       "        vertical-align: top;\n",
       "    }\n",
       "</style>\n",
       "<table border=\"1\" class=\"dataframe\">\n",
       "  <thead>\n",
       "    <tr style=\"text-align: right;\">\n",
       "      <th></th>\n",
       "      <th>location</th>\n",
       "      <th>Predicted</th>\n",
       "      <th>Probablity 0</th>\n",
       "      <th>Probablity 1</th>\n",
       "      <th>Probablity 2</th>\n",
       "    </tr>\n",
       "  </thead>\n",
       "  <tbody>\n",
       "    <tr>\n",
       "      <th>0</th>\n",
       "      <td>118</td>\n",
       "      <td>1.0</td>\n",
       "      <td>0.073057</td>\n",
       "      <td>0.909965</td>\n",
       "      <td>0.016979</td>\n",
       "    </tr>\n",
       "    <tr>\n",
       "      <th>1</th>\n",
       "      <td>91</td>\n",
       "      <td>0.0</td>\n",
       "      <td>0.608914</td>\n",
       "      <td>0.373421</td>\n",
       "      <td>0.017665</td>\n",
       "    </tr>\n",
       "    <tr>\n",
       "      <th>2</th>\n",
       "      <td>152</td>\n",
       "      <td>0.0</td>\n",
       "      <td>0.873024</td>\n",
       "      <td>0.116071</td>\n",
       "      <td>0.010905</td>\n",
       "    </tr>\n",
       "    <tr>\n",
       "      <th>3</th>\n",
       "      <td>931</td>\n",
       "      <td>0.0</td>\n",
       "      <td>0.608303</td>\n",
       "      <td>0.374005</td>\n",
       "      <td>0.017693</td>\n",
       "    </tr>\n",
       "    <tr>\n",
       "      <th>4</th>\n",
       "      <td>120</td>\n",
       "      <td>0.0</td>\n",
       "      <td>0.712712</td>\n",
       "      <td>0.274312</td>\n",
       "      <td>0.012977</td>\n",
       "    </tr>\n",
       "  </tbody>\n",
       "</table>\n",
       "</div>"
      ],
      "text/plain": [
       "  location  Predicted  Probablity 0  Probablity 1  Probablity 2\n",
       "0      118        1.0      0.073057      0.909965      0.016979\n",
       "1       91        0.0      0.608914      0.373421      0.017665\n",
       "2      152        0.0      0.873024      0.116071      0.010905\n",
       "3      931        0.0      0.608303      0.374005      0.017693\n",
       "4      120        0.0      0.712712      0.274312      0.012977"
      ]
     },
     "execution_count": 29,
     "metadata": {},
     "output_type": "execute_result"
    }
   ],
   "source": [
    "df_prob.head()"
   ]
  },
  {
   "cell_type": "code",
   "execution_count": null,
   "metadata": {
    "collapsed": true
   },
   "outputs": [],
   "source": []
  }
 ],
 "metadata": {
  "kernelspec": {
   "display_name": "Python 2",
   "language": "python",
   "name": "python2"
  },
  "language_info": {
   "codemirror_mode": {
    "name": "ipython",
    "version": 2
   },
   "file_extension": ".py",
   "mimetype": "text/x-python",
   "name": "python",
   "nbconvert_exporter": "python",
   "pygments_lexer": "ipython2",
   "version": "2.7.13"
  }
 },
 "nbformat": 4,
 "nbformat_minor": 2
}
